{
 "cells": [
  {
   "cell_type": "markdown",
   "metadata": {},
   "source": [
    "# Road Centerline Data Analysis Notebook "
   ]
  },
  {
   "cell_type": "code",
   "execution_count": 1,
   "metadata": {},
   "outputs": [],
   "source": [
    "# Create Local Processing Environment \n",
    "import arcpy\n",
    "import os\n",
    "gdb = r\"C:\\Users\\kyleg\\Documents\\ArcGIS\\Projects\\CorporateBoundaryAnalysis\\CorporateBoundaryAnalysis.gdb\"\n",
    "arcpy.workspace = gdb\n",
    "arcpy.overwriteOutput = True\n",
    "roadSourceEF = gdb+r\"\\RoadCenterlines_17E_F\"\n",
    "roadSourceJ = gdb+r\"\\RoadCenterlines_17J\"\n",
    "roadTarget = gdb+r\"\\Roads_GEO_ROADCENTERLINE_NG911_Projected\"\n"
   ]
  },
  {
   "cell_type": "code",
   "execution_count": null,
   "metadata": {
    "collapsed": true
   },
   "outputs": [],
   "source": [
    "#project the NG911 road centerlines from KDOT SQL server geodatabase to a local processing geodatabase in the Kansas Statwide projection\n",
    "#The KDOT SQL server geodatabase needs to be updated periodilcally from the KU Oracle geodatabase CHASM\n",
    "arcpy.management.Project(r\"\\\\gisdata\\arcgis\\gisdata\\Connection_files\\Roads\\dev\\Roads_Dev_geo.sde\\Roads.GEO.CHASM_NG911\\Roads.GEO.ROADCENTERLINE_NG911\", r\"C:\\gisdata\\Roads\\Conflate2017.gdb\\Roads_GEO_ROADCENTERLINE_NG911_Projected\", \"PROJCS['NAD_83_Kansas_Lambert_Conformal_Conic_Feet',GEOGCS['GCS_North_American_1983',DATUM['D_North_American_1983',SPHEROID['GRS_1980',6378137.0,298.257222101]],PRIMEM['Greenwich',0.0],UNIT['Degree',0.0174532925199433]],PROJECTION['Lambert_Conformal_Conic'],PARAMETER['false_easting',1312333.333333333],PARAMETER['false_northing',0.0],PARAMETER['central_meridian',-98.25],PARAMETER['standard_parallel_1',37.5],PARAMETER['standard_parallel_2',39.5],PARAMETER['scale_factor',1.0],PARAMETER['latitude_of_origin',36.0],UNIT['Foot_US',0.3048006096012192]]\", None, \"GEOGCS['GCS_North_American_1983',DATUM['D_North_American_1983',SPHEROID['GRS_1980',6378137.0,298.257222101]],PRIMEM['Greenwich',0.0],UNIT['Degree',0.0174532925199433]]\", \"NO_PRESERVE_SHAPE\", None, \"NO_VERTICAL\")\n"
   ]
  },
  {
   "cell_type": "code",
   "execution_count": 3,
   "metadata": {},
   "outputs": [
    {
     "name": "stdout",
     "output_type": "stream",
     "text": [
      "delete C:\\gisdata\\Roads\\Conflate2017.gdb\\source_spJ\n",
      "C:\\gisdata\\Roads\\Conflate2017.gdb\\source_spEF does not exist\n",
      "delete C:\\gisdata\\Roads\\Conflate2017.gdb\\target_sp1\n"
     ]
    }
   ],
   "source": [
    "#put the road centerline data sources for this analysis into the local processing geodatabase\n",
    "SourceJ = r\"C:\\gisdata\\Roads\\Conflate2017.gdb\\source_spJ\"\n",
    "SourceEF = r\"C:\\gisdata\\Roads\\Conflate2017.gdb\\source_spEF\"\n",
    "Target = r\"C:\\gisdata\\Roads\\Conflate2017.gdb\\target_sp1\"\n",
    "\n",
    "dellist = [SourceJ, SourceEF, Target]\n",
    "for feature in dellist:\n",
    "    if arcpy.Exists(feature):\n",
    "        print(\"delete \"+ feature)\n",
    "        arcpy.Delete_management(feature)\n",
    "    else:\n",
    "        print(feature+\" does not exist\")\n"
   ]
  },
  {
   "cell_type": "code",
   "execution_count": 4,
   "metadata": {},
   "outputs": [
    {
     "name": "stdout",
     "output_type": "stream",
     "text": [
      "ef: 429671  j: 475487  t: 474441\n"
     ]
    }
   ],
   "source": [
    "#Get some counts of features in the different road centerline feature classes\n",
    "ef = arcpy.management.GetCount(roadSourceEF)\n",
    "j = arcpy.management.GetCount(roadSourceJ)\n",
    "t = arcpy.management.GetCount(roadTarget)\n",
    "print (\"ef:\", ef, \" j:\", j, \" t:\", t )"
   ]
  },
  {
   "cell_type": "markdown",
   "metadata": {},
   "source": [
    "These counts indicate that something is significantly different about version ef.  The J version of conflation data and the target NG911 version are more similar in terms of feature count."
   ]
  },
  {
   "cell_type": "code",
   "execution_count": 5,
   "metadata": {},
   "outputs": [
    {
     "name": "stdout",
     "output_type": "stream",
     "text": [
      "multipart features exploded\n",
      "COGO Attributes added\n"
     ]
    }
   ],
   "source": [
    "#there probably should not be multipart features, but there are a few\n",
    "#they are exploded for this analysis.  The multipart features should be reviewed.  \n",
    "\n",
    "arcpy.overwriteOutput = True\n",
    "arcpy.management.MultipartToSinglepart(roadTarget, Target)\n",
    "arcpy.management.MultipartToSinglepart(roadSourceJ, SourceJ)\n",
    "print (\"multipart features exploded\")\n",
    "arcpy.management.EnableCOGO(SourceJ)\n",
    "arcpy.management.EnableCOGO(Target)\n",
    "print (\"COGO Attributes added\")"
   ]
  },
  {
   "cell_type": "code",
   "execution_count": 6,
   "metadata": {},
   "outputs": [
    {
     "name": "stdout",
     "output_type": "stream",
     "text": [
      " j: 475494  t: 474450\n"
     ]
    }
   ],
   "source": [
    "#Get some counts of features in the different road centerline feature classes - exploded\n",
    "j1 = arcpy.management.GetCount(SourceJ)\n",
    "t1 = arcpy.management.GetCount(Target)\n",
    "print (\" j:\", j1, \" t:\", t1 )"
   ]
  },
  {
   "cell_type": "code",
   "execution_count": 7,
   "metadata": {},
   "outputs": [
    {
     "name": "stdout",
     "output_type": "stream",
     "text": [
      "segment ID reformatted\n",
      "length 1 calculated\n",
      "length 2 calculated\n",
      "direction aziuth calculated 1\n",
      "direction aziuth calculated 2\n"
     ]
    }
   ],
   "source": [
    "#calculate geometry parameters to fields - Shape Length in Feet, Azimuth Angle\n",
    "#reformat the target Unique Segment ID's so they are the same as in the source\n",
    "arcpy.management.CalculateField(SourceJ, \"NGSEGID\", '!GCID!.replace(\" \", \"\")', \"PYTHON_9.3\", None)\n",
    "print(\"segment ID reformatted\")\n",
    "arcpy.management.CalculateField(SourceJ, \"Distance\", \"!Shape_Length!\", \"PYTHON_9.3\", None)\n",
    "print (\"length 1 calculated\")\n",
    "arcpy.management.CalculateField(Target, \"Distance\", \"!Shape_Length!\", \"PYTHON_9.3\", None)\n",
    "print (\"length 2 calculated\")\n",
    "arcpy.management.CalculateField(SourceJ, \"Direction\", \"NorthAzimuth( !SHAPE! )\", \"PYTHON_9.3\", r\"def NorthAzimuth(Pline):  \\n  degBearing = math.degrees(math.atan2((Pline.lastPoint.X - Pline.firstPoint.X),(Pline.lastPoint.Y - Pline.firstPoint.Y)))  \\n  if (degBearing < 0):  \\n      degBearing += 360.0  \\n  return degBearing  \\n\")\n",
    "print(\"direction aziuth calculated 1\")\n",
    "arcpy.management.CalculateField(Target, \"Direction\", \"NorthAzimuth( !SHAPE! )\", \"PYTHON_9.3\", r\"def NorthAzimuth(Pline):  \\n  degBearing = math.degrees(math.atan2((Pline.lastPoint.X - Pline.firstPoint.X),(Pline.lastPoint.Y - Pline.firstPoint.Y)))  \\n  if (degBearing < 0):  \\n      degBearing += 360.0  \\n  return degBearing  \\n\")\n",
    "print(\"direction aziuth calculated 2\")"
   ]
  },
  {
   "cell_type": "code",
   "execution_count": 8,
   "metadata": {},
   "outputs": [
    {
     "name": "stdout",
     "output_type": "stream",
     "text": [
      "delete SourcePT\n",
      "delete TargetPT\n"
     ]
    }
   ],
   "source": [
    "#Once points are created, they can be joined and analyzed\n",
    "#for future conflations, this cell will delete existing feature classes as needed\n",
    "#use this if overwrite output doesnt work, which it doesnt seem to do using Jupyter\n",
    "\n",
    "SourcePT = r\"C:\\gisdata\\Roads\\Conflate2017.gdb\\source_sp_pt\"\n",
    "TargetPT = r\"C:\\gisdata\\Roads\\Conflate2017.gdb\\target_sp_pt\"\n",
    "\n",
    "if arcpy.Exists(SourcePT):\n",
    "    print(\"delete SourcePT\")\n",
    "    arcpy.Delete_management(SourcePT)\n",
    "else:\n",
    "    print(SourcePT+\" does not exist\")\n",
    "    \n",
    "if arcpy.Exists(TargetPT):\n",
    "    print(\"delete TargetPT\")\n",
    "    arcpy.Delete_management(TargetPT)\n",
    "else:\n",
    "    print(TargetPT+\" does not exist\")"
   ]
  },
  {
   "cell_type": "code",
   "execution_count": 9,
   "metadata": {},
   "outputs": [
    {
     "name": "stdout",
     "output_type": "stream",
     "text": [
      "Source Point Created\n",
      "Target Point Created\n"
     ]
    }
   ],
   "source": [
    "#Reduce line geometry to point dimensions for faster spatial analysis\n",
    "#create the points\n",
    "\n",
    "arcpy.management.FeatureVerticesToPoints(SourceJ, SourcePT, \"MID\")\n",
    "print (\"Source Point Created\")\n",
    "\n",
    "arcpy.management.FeatureVerticesToPoints(Target, TargetPT, \"MID\")\n",
    "print (\"Target Point Created\")\n"
   ]
  },
  {
   "cell_type": "markdown",
   "metadata": {},
   "source": [
    "note that source points arent really being used for anything here.\n",
    "by definition, the target is the line feature class.\n",
    "\n",
    "points to points could be analyzed for faster change detection.\n",
    "none of these methods is 100% reliable for change detection,  assumptions are being made about feature similarity.\n",
    "\n",
    "there are a few cases where changes might not get detected, like where a line is reshaped but has similar summary properties.\n",
    "\n",
    "shape vertex matching would take much longer using these methods.\n",
    "\n",
    "we are assuming that these types of changes are allowable for our purpose of conflating LRS Key information.\n",
    "\n",
    "Mileage is another story, mileage has to be calibrated after initial Key matches are defined.\n",
    "\n",
    "The risk of measure error from this conflation is mitigated by scoring match confidence while reducing match criteria to allow more matches that could potentially introduce error.  \n",
    "\n"
   ]
  },
  {
   "cell_type": "code",
   "execution_count": 10,
   "metadata": {},
   "outputs": [
    {
     "name": "stdout",
     "output_type": "stream",
     "text": [
      "starting spatial join\n",
      "adding comparison fields\n",
      "calculating comparison fields\n"
     ]
    },
    {
     "data": {
      "text/plain": [
       "<Result 'C:\\\\gisdata\\\\Roads\\\\Conflate2017.gdb\\\\KDOT_RoadCenterlines'>"
      ]
     },
     "execution_count": 10,
     "metadata": {},
     "output_type": "execute_result"
    }
   ],
   "source": [
    "#First spatial join - source point to closest target line\n",
    "\n",
    "pointIdentityL = r\"C:\\gisdata\\Roads\\Conflate2017.gdb\\KDOT_RoadCenterlines\"\n",
    "if arcpy.Exists(pointIdentityL):\n",
    "    arcpy.Delete_management(pointIdentityL)\n",
    "\n",
    "print (\"starting spatial join\")\n",
    "arcpy.analysis.SpatialJoin(Target, SourcePT, pointIdentityL, \"JOIN_ONE_TO_ONE\", \"KEEP_ALL\", '#', \"CLOSEST\", None, \"DistanceToClosest\")\n",
    "print (\"adding comparison fields\")\n",
    "arcpy.management.AddField(pointIdentityL, \"AzimuthDifference\", \"DOUBLE\", None, None, None, None, \"NULLABLE\", \"NON_REQUIRED\", None)\n",
    "arcpy.management.AddField(pointIdentityL, \"DistanceDifference\", \"DOUBLE\", None, None, None, None, \"NULLABLE\", \"NON_REQUIRED\", None)\n",
    "arcpy.management.AddField(pointIdentityL, \"MatchScore\", \"DOUBLE\", None, None, None, None, \"NULLABLE\", \"NON_REQUIRED\", None)\n",
    "arcpy.management.AddField(pointIdentityL, \"FlipFlag\", \"Integer\", None, None, None, None, \"NULLABLE\", \"NON_REQUIRED\", None)\n",
    "print (\"calculating comparison fields\")\n",
    "arcpy.management.CalculateField(pointIdentityL, \"DistanceDifference\", \"abs(!Distance!-!Distance_1!)\", \"PYTHON_9.3\", None)\n",
    "arcpy.management.CalculateField(pointIdentityL, \"AzimuthDifference\", \"abs(!Direction!-!Direction_1!)\", \"PYTHON_9.3\", None)\n",
    "#note on the last run, the comparison fields were added but did not calculate correctly\n",
    "#"
   ]
  },
  {
   "cell_type": "code",
   "execution_count": 11,
   "metadata": {},
   "outputs": [
    {
     "name": "stdout",
     "output_type": "stream",
     "text": [
      "criteria set NGSEGID_1 = NGKSSEGID and DistanceDifference < 1 and (AzimuthDifference > 355 OR AzimuthDifference < 5) and DistanceToClosest < 1\n",
      "ideal:405315 flipped:706\n"
     ]
    }
   ],
   "source": [
    "#Criteria for setting a 100% match confidence\n",
    "#same segment ID, location, shape length, azimuth angle\n",
    "#also look for flipped angles - those are matches, just flag the flip operation\n",
    "\n",
    "MatchConfidence = '100'\n",
    "deltaSegmentID = \"NGSEGID_1 = NGKSSEGID\"\n",
    "deltaLength =\"DistanceDifference < 1\" \n",
    "deltaDirectionFlip = \"AzimuthDifference > 175 AND AzimuthDifference < 185\" \n",
    "deltaDirection = \"(AzimuthDifference > 355 OR AzimuthDifference < 5)\"\n",
    "deltaLocation = \"DistanceToClosest < 1\"\n",
    "scoredhigher = \"1=1\"\n",
    "criteriaSame = deltaSegmentID+\" and \"+ deltaLength+\" and \"+ deltaDirection+\" and \"+ deltaLocation\n",
    "criteriaFlipped = deltaSegmentID+\" and \"+ deltaLength+\" and \"+ deltaDirectionFlip+\" and \"+ deltaLocation\n",
    "print (\"criteria set \"+criteriaSame)\n",
    "arcpy.management.MakeFeatureLayer(pointIdentityL, \"Confidence100F\", criteriaFlipped, None, \"#\")\n",
    "arcpy.management.MakeFeatureLayer(pointIdentityL, \"Confidence100\", criteriaSame, None, \"#\")\n",
    "print (\"ideal:\"+str(arcpy.management.GetCount(\"Confidence100\")), \"flipped:\"+str(arcpy.management.GetCount(\"Confidence100F\")))"
   ]
  },
  {
   "cell_type": "code",
   "execution_count": 12,
   "metadata": {},
   "outputs": [
    {
     "data": {
      "text/plain": [
       "<Result 'Confidence100F'>"
      ]
     },
     "execution_count": 12,
     "metadata": {},
     "output_type": "execute_result"
    }
   ],
   "source": [
    "#calculate 100% confidence scores\n",
    "\n",
    "arcpy.management.CalculateField(\"Confidence100\", \"MatchScore\", MatchConfidence, \"PYTHON_9.3\", None)\n",
    "arcpy.management.CalculateField(\"Confidence100F\", \"FlipFlag\", \"1\", \"PYTHON_9.3\", None)\n",
    "arcpy.management.CalculateField(\"Confidence100F\", \"MatchScore\", MatchConfidence, \"PYTHON_9.3\", None)\n"
   ]
  },
  {
   "cell_type": "code",
   "execution_count": 13,
   "metadata": {},
   "outputs": [
    {
     "name": "stdout",
     "output_type": "stream",
     "text": [
      "criteria set (MatchScore < 99 OR MatchScore is null) and NGSEGID_1 = NGKSSEGID and DistanceDifference < 50 and (AzimuthDifference > 350 OR AzimuthDifference < 10) and DistanceToClosest < 20\n",
      "match:17606 flipped:66\n"
     ]
    }
   ],
   "source": [
    "#Criteria for setting a 98% match\n",
    "#same segment ID, \n",
    "#similar location, shape length, azimuth angle\n",
    "#these are mostly lines have had minor geometry edits\n",
    "\n",
    "MatchConfidence = '98'\n",
    "deltaSegmentID = \"NGSEGID_1 = NGKSSEGID\"\n",
    "deltaLength =\"DistanceDifference < 50\" \n",
    "deltaDirectionFlip = \"AzimuthDifference > 170 AND AzimuthDifference < 190\" \n",
    "deltaDirection = \"(AzimuthDifference > 350 OR AzimuthDifference < 10)\"\n",
    "deltaLocation = \"DistanceToClosest < 20\"\n",
    "scoredhigher = \"(MatchScore < 98 OR MatchScore is null)\"\n",
    "criteriaSame = scoredhigher+\" and \"+ deltaSegmentID+\" and \"+ deltaLength+\" and \"+ deltaDirection+\" and \"+ deltaLocation\n",
    "criteriaFlipped = scoredhigher+\" and \"+deltaSegmentID+\" and \"+ deltaLength+\" and \"+ deltaDirectionFlip+\" and \"+ deltaLocation\n",
    "print (\"criteria set \"+criteriaSame)\n",
    "arcpy.management.MakeFeatureLayer(pointIdentityL, \"Confidence98\", criteriaSame, None, \"#\")\n",
    "arcpy.management.MakeFeatureLayer(pointIdentityL, \"Confidence98F\", criteriaFlipped, None, \"#\")\n",
    "print (\"match:\"+str(arcpy.management.GetCount(\"Confidence98\")), \"flipped:\"+str(arcpy.management.GetCount(\"Confidence98F\")))"
   ]
  },
  {
   "cell_type": "code",
   "execution_count": 14,
   "metadata": {},
   "outputs": [
    {
     "data": {
      "text/plain": [
       "<Result 'Confidence98F'>"
      ]
     },
     "execution_count": 14,
     "metadata": {},
     "output_type": "execute_result"
    }
   ],
   "source": [
    "#calculate 98% confidence scores\n",
    "\n",
    "arcpy.management.CalculateField(\"Confidence98\", \"MatchScore\", MatchConfidence, \"PYTHON_9.3\", None)\n",
    "arcpy.management.CalculateField(\"Confidence98F\", \"MatchScore\", MatchConfidence, \"PYTHON_9.3\", None)\n",
    "arcpy.management.CalculateField(\"Confidence98F\", \"FlipFlag\", \"1\", \"PYTHON_9.3\", None)"
   ]
  },
  {
   "cell_type": "code",
   "execution_count": 15,
   "metadata": {},
   "outputs": [
    {
     "name": "stdout",
     "output_type": "stream",
     "text": [
      "criteria set (MatchScore < 97 OR MatchScore is null) and NGSEGID_1 = NGKSSEGID and DistanceDifference < 100 and (AzimuthDifference > 350 OR AzimuthDifference < 10) and DistanceToClosest < 50\n",
      "ideal:839 flipped:3\n"
     ]
    }
   ],
   "source": [
    "#Criteria for setting a 96% match\n",
    "#same segment ID, \n",
    "#similar location, shape length, azimuth angle\n",
    "#these are mostly lines have had significant geometry edits but are still mostly in the same place, direction, and length\n",
    "\n",
    "MatchConfidence = '96'\n",
    "deltaSegmentID = \"NGSEGID_1 = NGKSSEGID\"\n",
    "deltaLength =\"DistanceDifference < 100\" \n",
    "deltaDirectionFlip = \"AzimuthDifference > 170 AND AzimuthDifference < 190\" \n",
    "deltaDirection = \"(AzimuthDifference > 350 OR AzimuthDifference < 10)\"\n",
    "deltaLocation = \"DistanceToClosest < 50\"\n",
    "scoredhigher = \"(MatchScore < 96 OR MatchScore is null)\"\n",
    "criteriaSame = scoredhigher+\" and \"+ deltaSegmentID+\" and \"+ deltaLength+\" and \"+ deltaDirection+\" and \"+ deltaLocation\n",
    "criteriaFlipped = scoredhigher+\" and \"+deltaSegmentID+\" and \"+ deltaLength+\" and \"+ deltaDirectionFlip+\" and \"+ deltaLocation\n",
    "print (\"criteria set \"+criteriaSame)\n",
    "arcpy.management.MakeFeatureLayer(pointIdentityL, \"Confidence96\", criteriaSame, None, \"#\")\n",
    "arcpy.management.MakeFeatureLayer(pointIdentityL, \"Confidence96F\", criteriaFlipped, None, \"#\")\n",
    "print (\"ideal:\"+str(arcpy.management.GetCount(\"Confidence96\")), \"flipped:\"+str(arcpy.management.GetCount(\"Confidence96F\")))"
   ]
  },
  {
   "cell_type": "code",
   "execution_count": 16,
   "metadata": {},
   "outputs": [
    {
     "data": {
      "text/plain": [
       "<Result 'Confidence96F'>"
      ]
     },
     "execution_count": 16,
     "metadata": {},
     "output_type": "execute_result"
    }
   ],
   "source": [
    "#calculate 96% confidence scores\n",
    "\n",
    "arcpy.management.CalculateField(\"Confidence96\", \"MatchScore\", MatchConfidence, \"PYTHON_9.3\", None)\n",
    "arcpy.management.CalculateField(\"Confidence96F\", \"MatchScore\", MatchConfidence, \"PYTHON_9.3\", None)\n",
    "arcpy.management.CalculateField(\"Confidence96F\", \"FlipFlag\", \"1\", \"PYTHON_9.3\", None)"
   ]
  },
  {
   "cell_type": "code",
   "execution_count": 17,
   "metadata": {},
   "outputs": [
    {
     "name": "stdout",
     "output_type": "stream",
     "text": [
      "criteria set (MatchScore < 96 OR MatchScore is null) and DistanceDifference < 1 and (AzimuthDifference > 355 OR AzimuthDifference < 5) and DistanceToClosest < 1\n",
      "match:27784 flipped:496\n"
     ]
    }
   ],
   "source": [
    "#Criteria for setting a 95% match confidence\n",
    "#same location, shape length, azimuth angle with very tight tolerance\n",
    "#also look for flipped angles - those are matches, just flag the flip operation\n",
    "#no segment ID relationship - some segment ID's might be null, those will be included\n",
    "\n",
    "MatchConfidence = '95'\n",
    "deltaSegmentID = \"NGSEGID_1 <> NGKSSEGID\"\n",
    "deltaLength =\"DistanceDifference < 1\" \n",
    "deltaDirectionFlip = \"AzimuthDifference > 175 AND AzimuthDifference < 185\" \n",
    "deltaDirection = \"(AzimuthDifference > 355 OR AzimuthDifference < 5)\"\n",
    "deltaLocation = \"DistanceToClosest < 1\"\n",
    "scoredhigher = \"(MatchScore < 95 OR MatchScore is null)\"\n",
    "criteriaSame = scoredhigher+\" and \"+ deltaLength+\" and \"+ deltaDirection+\" and \"+ deltaLocation \n",
    "criteriaFlipped = scoredhigher+\" and \"+deltaLength+\" and \"+ deltaDirectionFlip +\" and \"+ deltaLocation\n",
    "print (\"criteria set \"+criteriaSame)\n",
    "arcpy.management.MakeFeatureLayer(pointIdentityL, \"Confidence95\", criteriaSame, None, \"#\")\n",
    "arcpy.management.MakeFeatureLayer(pointIdentityL, \"Confidence95F\", criteriaFlipped, None, \"#\")\n",
    "print (\"match:\"+str(arcpy.management.GetCount(\"Confidence95\")), \"flipped:\"+str(arcpy.management.GetCount(\"Confidence95F\")))"
   ]
  },
  {
   "cell_type": "code",
   "execution_count": 18,
   "metadata": {},
   "outputs": [
    {
     "data": {
      "text/plain": [
       "<Result 'Confidence95F'>"
      ]
     },
     "execution_count": 18,
     "metadata": {},
     "output_type": "execute_result"
    }
   ],
   "source": [
    "#calculate 95% confidence scores\n",
    "\n",
    "arcpy.management.CalculateField(\"Confidence95\", \"MatchScore\", MatchConfidence, \"PYTHON_9.3\", None)\n",
    "arcpy.management.CalculateField(\"Confidence95F\", \"MatchScore\", MatchConfidence, \"PYTHON_9.3\", None)\n",
    "arcpy.management.CalculateField(\"Confidence95F\", \"FlipFlag\", \"1\", \"PYTHON_9.3\", None)"
   ]
  },
  {
   "cell_type": "code",
   "execution_count": 19,
   "metadata": {},
   "outputs": [
    {
     "name": "stdout",
     "output_type": "stream",
     "text": [
      "criteria set (MatchScore < 95 OR MatchScore is null) and DistanceDifference < 50 and (AzimuthDifference > 355 OR AzimuthDifference < 5) and DistanceToClosest < 20\n",
      "match:7073 flipped:455\n"
     ]
    }
   ],
   "source": [
    "#Criteria for setting a 90% match confidence\n",
    "#same location, shape length, azimuth angle with close tolerance\n",
    "#also look for flipped angles - those are matches, just flag the flip operation\n",
    "#no segment ID relationship - some segment ID's might be null, those will be included\n",
    "\n",
    "MatchConfidence = '90'\n",
    "deltaSegmentID = \"NGSEGID_1 <> NGKSSEGID\"\n",
    "deltaLength =\"DistanceDifference < 50\" \n",
    "deltaDirectionFlip = \"AzimuthDifference > 175 AND AzimuthDifference < 185\" \n",
    "deltaDirection = \"(AzimuthDifference > 355 OR AzimuthDifference < 5)\"\n",
    "deltaLocation = \"DistanceToClosest < 20\"\n",
    "scoredhigher = \"(MatchScore < 90 OR MatchScore is null)\"\n",
    "criteriaSame = scoredhigher+\" and \"+ deltaLength+\" and \"+ deltaDirection+\" and \"+ deltaLocation \n",
    "criteriaFlipped = scoredhigher+\" and \"+deltaLength+\" and \"+ deltaDirectionFlip +\" and \"+ deltaLocation\n",
    "print (\"criteria set \"+criteriaSame)\n",
    "arcpy.management.MakeFeatureLayer(pointIdentityL, \"Confidence90\", criteriaSame, None, \"#\")\n",
    "arcpy.management.MakeFeatureLayer(pointIdentityL, \"Confidence90F\", criteriaFlipped, None, \"#\")\n",
    "print (\"match:\"+str(arcpy.management.GetCount(\"Confidence90\")), \"flipped:\"+str(arcpy.management.GetCount(\"Confidence90F\")))"
   ]
  },
  {
   "cell_type": "code",
   "execution_count": 20,
   "metadata": {},
   "outputs": [
    {
     "data": {
      "text/plain": [
       "<Result 'Confidence90F'>"
      ]
     },
     "execution_count": 20,
     "metadata": {},
     "output_type": "execute_result"
    }
   ],
   "source": [
    "#calculate 90% confidence scores\n",
    "\n",
    "arcpy.management.CalculateField(\"Confidence90\", \"MatchScore\", MatchConfidence, \"PYTHON_9.3\", None)\n",
    "arcpy.management.CalculateField(\"Confidence90F\", \"MatchScore\", MatchConfidence, \"PYTHON_9.3\", None)\n",
    "arcpy.management.CalculateField(\"Confidence90F\", \"FlipFlag\", \"1\", \"PYTHON_9.3\", None)"
   ]
  },
  {
   "cell_type": "code",
   "execution_count": 19,
   "metadata": {},
   "outputs": [
    {
     "name": "stdout",
     "output_type": "stream",
     "text": [
      "criteria set (MatchScore < 95 OR MatchScore is null) and DistanceDifference < 50 and (AzimuthDifference > 355 OR AzimuthDifference < 5) and DistanceToClosest < 20\n",
      "match:7073 flipped:455\n"
     ]
    }
   ],
   "source": [
    "#Criteria for setting a 88% match confidence\n",
    "#same location, azimuth angle with close tolerance\n",
    "#also look for flipped angles - those are matches, just flag the flip operation\n",
    "#no segment ID relationship - some segment ID's might be null, those will be included\n",
    "#many of the remaining issues are many to one relationships\n",
    "#the shape lengths will be very different but the azimuth and the nearest segment will be a close match\n",
    "\n",
    "\n",
    "MatchConfidence = '88'\n",
    "deltaSegmentID = \"NGSEGID_1 <> NGKSSEGID\"\n",
    "deltaDirectionFlip = \"AzimuthDifference > 175 AND AzimuthDifference < 185\" \n",
    "deltaDirection = \"(AzimuthDifference > 355 OR AzimuthDifference < 5)\"\n",
    "deltaLocation = \"DistanceToClosest < 2\"\n",
    "scoredhigher = \"(MatchScore < 88 OR MatchScore is null)\"\n",
    "criteriaSame = scoredhigher+\" and \"+ deltaLength+\" and \"+ deltaDirection+\" and \"+ deltaLocation \n",
    "criteriaFlipped = scoredhigher+\" and \"+deltaLength+\" and \"+ deltaDirectionFlip +\" and \"+ deltaLocation\n",
    "print (\"criteria set \"+criteriaSame)\n",
    "arcpy.management.MakeFeatureLayer(pointIdentityL, \"Confidence88\", criteriaSame, None, \"#\")\n",
    "arcpy.management.MakeFeatureLayer(pointIdentityL, \"Confidence88F\", criteriaFlipped, None, \"#\")\n",
    "print (\"match:\"+str(arcpy.management.GetCount(\"Confidence88\")), \"flipped:\"+str(arcpy.management.GetCount(\"Confidence88F\")))"
   ]
  },
  {
   "cell_type": "code",
   "execution_count": 20,
   "metadata": {},
   "outputs": [
    {
     "data": {
      "text/plain": [
       "<Result 'Confidence90F'>"
      ]
     },
     "execution_count": 20,
     "metadata": {},
     "output_type": "execute_result"
    }
   ],
   "source": [
    "#calculate 88% confidence scores\n",
    "\n",
    "arcpy.management.CalculateField(\"Confidence88\", \"MatchScore\", MatchConfidence, \"PYTHON_9.3\", None)\n",
    "arcpy.management.CalculateField(\"Confidence88F\", \"MatchScore\", MatchConfidence, \"PYTHON_9.3\", None)\n",
    "arcpy.management.CalculateField(\"Confidence88F\", \"FlipFlag\", \"1\", \"PYTHON_9.3\", None)"
   ]
  },
  {
   "cell_type": "code",
   "execution_count": 43,
   "metadata": {},
   "outputs": [
    {
     "name": "stdout",
     "output_type": "stream",
     "text": [
      "SecondJoin does not exist\n",
      "Deleted\n",
      "KDOT_RoadCenterlines2I does not exist\n"
     ]
    }
   ],
   "source": [
    "  \n",
    "pointIdentity2 = r\"C:\\gisdata\\Roads\\Conflate2017.gdb\\SecondJoin\"\n",
    "if arcpy.Exists(pointIdentity2):\n",
    "    arcpy.Delete_management(pointIdentity2)\n",
    "    print(\"deleted\") \n",
    "else:\n",
    "    print (\"SecondJoin does not exist\")\n",
    "    \n",
    "pointIdentityM = r\"C:\\gisdata\\Roads\\Conflate2017.gdb\\KDOT_RoadCenterlines2\"\n",
    "if arcpy.Exists(pointIdentityM):\n",
    "    arcpy.Delete_management(pointIdentityM)\n",
    "    print (\"Deleted\")\n",
    "else:\n",
    "    print (\"KDOT_RoadCenterlines2 does not exist\")\n",
    "    \n"
   ]
  },
  {
   "cell_type": "code",
   "execution_count": 44,
   "metadata": {},
   "outputs": [
    {
     "name": "stdout",
     "output_type": "stream",
     "text": [
      "still unmatched:14107\n"
     ]
    }
   ],
   "source": [
    "#need to eliminate the fieids from the first spatial join, easy way to do that in pro is FC to FC \n",
    "scoredhigher = \"(MatchScore < 90 OR MatchScore is null)\"\n",
    "#arcpy.management.MakeFeatureLayer(pointIdentityL, \"SecondJoin\", scoredhigher, None, \"#\")   \n",
    "pointIdentityM = r\"C:\\gisdata\\Roads\\Conflate2017.gdb\\KDOT_RoadCenterlines2\"\n",
    "arcpy.conversion.FeatureClassToFeatureClass(\"SecondJoin\", r\"C:\\gisdata\\Roads\\Conflate2017.gdb\", \"KDOT_RoadCenterlines2\", scoredhigher, 'TARGET_FID \"TARGET_FID\" true true false 4 Long 0 0,First,#,SecondJoin,TARGET_FID,-1,-1;STATE_L \"STATE_L\" true true false 2 Text 0 0,First,#,SecondJoin,STATE_L,0,2;STATE_R \"STATE_R\" true true false 2 Text 0 0,First,#,SecondJoin,STATE_R,0,2;COUNTY_L \"COUNTY_L\" true true false 40 Text 0 0,First,#,SecondJoin,COUNTY_L,0,40;COUNTY_R \"COUNTY_R\" true true false 40 Text 0 0,First,#,SecondJoin,COUNTY_R,0,40;MUNI_L \"MUNI_L\" true true false 100 Text 0 0,First,#,SecondJoin,MUNI_L,0,100;MUNI_R \"MUNI_R\" true true false 100 Text 0 0,First,#,SecondJoin,MUNI_R,0,100;L_F_ADD \"L_F_ADD\" true true false 4 Long 0 0,First,#,SecondJoin,L_F_ADD,-1,-1;L_T_ADD \"L_T_ADD\" true true false 4 Long 0 0,First,#,SecondJoin,L_T_ADD,-1,-1;R_F_ADD \"R_F_ADD\" true true false 4 Long 0 0,First,#,SecondJoin,R_F_ADD,-1,-1;R_T_ADD \"R_T_ADD\" true true false 4 Long 0 0,First,#,SecondJoin,R_T_ADD,-1,-1;POSTCO_L \"POSTCO_L\" true true false 40 Text 0 0,First,#,SecondJoin,POSTCO_L,0,40;POSTCO_R \"POSTCO_R\" true true false 40 Text 0 0,First,#,SecondJoin,POSTCO_R,0,40;ZIP_L \"ZIP_L\" true true false 5 Text 0 0,First,#,SecondJoin,ZIP_L,0,5;ZIP_R \"ZIP_R\" true true false 5 Text 0 0,First,#,SecondJoin,ZIP_R,0,5;ESN_L \"ESN_L\" true true false 5 Text 0 0,First,#,SecondJoin,ESN_L,0,5;ESN_R \"ESN_R\" true true false 5 Text 0 0,First,#,SecondJoin,ESN_R,0,5;MSAGCO_L \"MSAGCO_L\" true true false 30 Text 0 0,First,#,SecondJoin,MSAGCO_L,0,30;MSAGCO_R \"MSAGCO_R\" true true false 30 Text 0 0,First,#,SecondJoin,MSAGCO_R,0,30;STP \"STP\" true true false 20 Text 0 0,First,#,SecondJoin,STP,0,20;SPDLIMIT \"SPDLIMIT\" true true false 4 Long 0 0,First,#,SecondJoin,SPDLIMIT,-1,-1;LABEL \"LABEL\" true true false 121 Text 0 0,First,#,SecondJoin,LABEL,0,121;ELEV_F \"ELEV_F\" true true false 4 Long 0 0,First,#,SecondJoin,ELEV_F,-1,-1;ELEV_T \"ELEV_T\" true true false 4 Long 0 0,First,#,SecondJoin,ELEV_T,-1,-1;SURFACE \"SURFACE\" true true false 10 Text 0 0,First,#,SecondJoin,SURFACE,0,10;STATUS \"STATUS\" true true false 10 Text 0 0,First,#,SecondJoin,STATUS,0,10;TRAVEL \"TRAVEL\" true true false 20 Text 0 0,First,#,SecondJoin,TRAVEL,0,20;SHAPE_LENG \"SHAPE_LENG\" true true false 8 Double 0 0,First,#,SecondJoin,SHAPE_LENG,-1,-1;LRSKEY \"LRSKEY\" true true false 24 Text 0 0,First,#,SecondJoin,LRSKEY,0,24;EXCEPTION \"EXCEPTION\" true true false 20 Text 0 0,First,#,SecondJoin,EXCEPTION,0,20;SUBMIT \"SUBMIT\" true true false 1 Text 0 0,First,#,SecondJoin,SUBMIT,0,1;NOTES \"NOTES\" true true false 254 Text 0 0,First,#,SecondJoin,NOTES,0,254;UNINC_L \"UNINC_L\" true true false 100 Text 0 0,First,#,SecondJoin,UNINC_L,0,100;UNINC_R \"UNINC_R\" true true false 100 Text 0 0,First,#,SecondJoin,UNINC_R,0,100;AUTH_L \"AUTH_L\" true true false 1 Text 0 0,First,#,SecondJoin,AUTH_L,0,1;AUTH_R \"AUTH_R\" true true false 1 Text 0 0,First,#,SecondJoin,AUTH_R,0,1;GEOMSAGL \"GEOMSAGL\" true true false 1 Text 0 0,First,#,SecondJoin,GEOMSAGL,0,1;GEOMSAGR \"GEOMSAGR\" true true false 1 Text 0 0,First,#,SecondJoin,GEOMSAGR,0,1;RD_RENDER \"RD_RENDER\" true true false 50 Text 0 0,First,#,SecondJoin,RD_RENDER,0,50;NGKSSEGID \"NGKSSEGID\" true true false 44 Text 0 0,First,#,SecondJoin,NGKSSEGID,0,44;STP_RD \"STP_RD\" true true false 80 Text 0 0,First,#,SecondJoin,STP_RD,0,80;ORIG_FID \"ORIG_FID\" true true false 4 Long 0 0,First,#,SecondJoin,ORIG_FID,-1,-1;Direction \"Direction\" true true false 8 Double 0 0,First,#,SecondJoin,Direction,-1,-1;Distance \"Distance\" true true false 8 Double 0 0,First,#,SecondJoin,Distance,-1,-1;Radius \"Radius\" true true false 8 Double 0 0,First,#,SecondJoin,Radius,-1,-1;ArcLength \"Arc Length\" true true false 8 Double 0 0,First,#,SecondJoin,ArcLength,-1,-1;Radius2 \"Radius2\" true true false 8 Double 0 0,First,#,SecondJoin,Radius2,-1,-1;SHAPE_Length \"SHAPE_Length\" false true true 8 Double 0 0,First,#,SecondJoin,SHAPE_Length,-1,-1;AzimuthDifference \"AzimuthDifference\" true true false 8 Double 0 0,First,#,SecondJoin,AzimuthDifference,-1,-1;DistanceDifference \"DistanceDifference\" true true false 8 Double 0 0,First,#,SecondJoin,DistanceDifference,-1,-1;MatchScore \"MatchScore\" true true false 8 Double 0 0,First,#,SecondJoin,MatchScore,-1,-1;FlipFlag \"FlipFlag\" true true false 4 Long 0 0,First,#,SecondJoin,FlipFlag,-1,-1', None)\n",
    "#14107 unmatched for the 1:M join\n",
    "\n",
    "print (\"still unmatched:\"+str(arcpy.management.GetCount(pointIdentityM)))\n",
    "\n"
   ]
  },
  {
   "cell_type": "code",
   "execution_count": 48,
   "metadata": {},
   "outputs": [
    {
     "name": "stdout",
     "output_type": "stream",
     "text": [
      "starting spatial join\n",
      "deleted\n"
     ]
    },
    {
     "ename": "TypeError",
     "evalue": "Can't convert 'Result' object to str implicitly",
     "output_type": "error",
     "traceback": [
      "\u001b[1;31m---------------------------------------------------------------------------\u001b[0m",
      "\u001b[1;31mTypeError\u001b[0m                                 Traceback (most recent call last)",
      "\u001b[1;32m<string>\u001b[0m in \u001b[0;36m<module>\u001b[1;34m()\u001b[0m\n\u001b[0;32m     19\u001b[0m \u001b[1;31m#arcpy.management.AddField(pointIdentityM, \"MatchScore\", \"DOUBLE\", None, None, None, None, \"NULLABLE\", \"NON_REQUIRED\", None)\u001b[0m\u001b[1;33m\u001b[0m\u001b[1;33m\u001b[0m\u001b[0m\n\u001b[0;32m     20\u001b[0m \u001b[1;31m#arcpy.management.AddField(pointIdentityM, \"FlipFlag\", \"Integer\", None, None, None, None, \"NULLABLE\", \"NON_REQUIRED\", None)\u001b[0m\u001b[1;33m\u001b[0m\u001b[1;33m\u001b[0m\u001b[0m\n\u001b[1;32m---> 21\u001b[1;33m \u001b[0mprint\u001b[0m \u001b[1;33m(\u001b[0m\u001b[1;34m\"calculating comparison fields for \"\u001b[0m\u001b[1;33m+\u001b[0m\u001b[0marcpy\u001b[0m\u001b[1;33m.\u001b[0m\u001b[0mmanagement\u001b[0m\u001b[1;33m.\u001b[0m\u001b[0mGetCount\u001b[0m\u001b[1;33m(\u001b[0m\u001b[0mpointIdentityI\u001b[0m\u001b[1;33m)\u001b[0m\u001b[1;33m+\u001b[0m\u001b[1;34m\" rows.\"\u001b[0m\u001b[1;33m)\u001b[0m\u001b[1;33m\u001b[0m\u001b[0m\n\u001b[0m\u001b[0;32m     22\u001b[0m \u001b[0marcpy\u001b[0m\u001b[1;33m.\u001b[0m\u001b[0mmanagement\u001b[0m\u001b[1;33m.\u001b[0m\u001b[0mCalculateField\u001b[0m\u001b[1;33m(\u001b[0m\u001b[0mpointIdentityI\u001b[0m\u001b[1;33m,\u001b[0m \u001b[1;34m\"DistanceDifference\"\u001b[0m\u001b[1;33m,\u001b[0m \u001b[1;34m\"abs(!Distance!-!Distance_1!)\"\u001b[0m\u001b[1;33m,\u001b[0m \u001b[1;34m\"PYTHON_9.3\"\u001b[0m\u001b[1;33m,\u001b[0m \u001b[1;32mNone\u001b[0m\u001b[1;33m)\u001b[0m\u001b[1;33m\u001b[0m\u001b[0m\n\u001b[0;32m     23\u001b[0m \u001b[0marcpy\u001b[0m\u001b[1;33m.\u001b[0m\u001b[0mmanagement\u001b[0m\u001b[1;33m.\u001b[0m\u001b[0mCalculateField\u001b[0m\u001b[1;33m(\u001b[0m\u001b[0mpointIdentityI\u001b[0m\u001b[1;33m,\u001b[0m \u001b[1;34m\"AzimuthDifference\"\u001b[0m\u001b[1;33m,\u001b[0m \u001b[1;34m\"abs(!Direction!-!Direction_1!)\"\u001b[0m\u001b[1;33m,\u001b[0m \u001b[1;34m\"PYTHON_9.3\"\u001b[0m\u001b[1;33m,\u001b[0m \u001b[1;32mNone\u001b[0m\u001b[1;33m)\u001b[0m\u001b[1;33m\u001b[0m\u001b[0m\n",
      "\u001b[1;31mTypeError\u001b[0m: Can't convert 'Result' object to str implicitly"
     ]
    }
   ],
   "source": [
    "#Second spatial join - source point to target line within a mile\n",
    "#start with matches less %\n",
    "print (\"starting spatial join\")\n",
    "pointIdentityI = r\"C:\\gisdata\\Roads\\Conflate2017.gdb\\KDOT_RoadCenterlines2I\"\n",
    "if arcpy.Exists(pointIdentityI):\n",
    "    arcpy.Delete_management(pointIdentityI)\n",
    "    print (\"deleted\")\n",
    "else:\n",
    "    print (\"KDOT_RoadCenterlines2I does not exist\")\n",
    "\n",
    "pointIdentityI = r\"C:\\gisdata\\Roads\\Conflate2017.gdb\\KDOT_RoadCenterlines2I\"\n",
    "arcpy.analysis.SpatialJoin(pointIdentityM, SourcePT, pointIdentityI, \"JOIN_ONE_TO_MANY\", \"KEEP_ALL\", '#', \"Within a distance\", \"1 Miles\", \"DistanceTo\")\n",
    "#Distance To is not calculating with the  \"Within a distance\" approach\n",
    "#record count is about 2.337 million with 14107 features joined to all pts within a mile\n",
    "\n",
    "\n",
    "#arcpy.management.AddField(pointIdentityM, \"AzimuthDifference\", \"DOUBLE\", None, None, None, None, \"NULLABLE\", \"NON_REQUIRED\", None)\n",
    "#arcpy.management.AddField(pointIdentityM, \"DistanceDifference\", \"DOUBLE\", None, None, None, None, \"NULLABLE\", \"NON_REQUIRED\", None)\n",
    "#arcpy.management.AddField(pointIdentityM, \"MatchScore\", \"DOUBLE\", None, None, None, None, \"NULLABLE\", \"NON_REQUIRED\", None)\n",
    "#arcpy.management.AddField(pointIdentityM, \"FlipFlag\", \"Integer\", None, None, None, None, \"NULLABLE\", \"NON_REQUIRED\", None)\n",
    "print (\"calculating comparison fields for \"+arcpy.management.GetCount(pointIdentityI)+\" rows.\")\n",
    "arcpy.management.CalculateField(pointIdentityI, \"DistanceDifference\", \"abs(!Distance!-!Distance_1!)\", \"PYTHON_9.3\", None)\n",
    "arcpy.management.CalculateField(pointIdentityI, \"AzimuthDifference\", \"abs(!Direction!-!Direction_1!)\", \"PYTHON_9.3\", None)\n",
    "#note on the last run, the comparison fields were added but did not calculate correctly"
   ]
  },
  {
   "cell_type": "code",
   "execution_count": null,
   "metadata": {
    "collapsed": true
   },
   "outputs": [],
   "source": [
    "#Criteria for setting a 85% match confidence\n",
    "#same nearest within a distance of 1 miles\n",
    "#matching segment ID relationship and similar geometry\n",
    "#calculate count of many to 1 matches \n",
    "\n",
    "MatchConfidence = '85'\n",
    "deltaSegmentID = \"NGSEGID_1 = NGKSSEGID\"\n",
    "deltaLength =\"DistanceDifference < 150\" \n",
    "deltaDirectionFlip = \"(AzimuthDifference > 170 AND AzimuthDifference < 190)\" \n",
    "deltaDirection = \"(AzimuthDifference > 355 OR AzimuthDifference < 5)\"\n",
    "criteriaSame = deltaLength+\" and \"+ deltaDirection+\" and \"+ deltaSegmentID \n",
    "criteriaFlipped = deltaLength+\" and \"+ deltaDirectionFlip +\" and \"+ deltaSegmentID \n",
    "print (\"criteria set \"+criteriaSame)\n",
    "arcpy.management.MakeFeatureLayer(pointIdentityI, \"Confidence85\", criteriaSame, None, \"#\")\n",
    "arcpy.management.MakeFeatureLayer(pointIdentityI, \"Confidence85F\", criteriaFlipped, None, \"#\")\n",
    "print (\"match:\"+str(arcpy.management.GetCount(\"Confidence85\")), \"flipped:\"+str(arcpy.management.GetCount(\"Confidence85F\")))"
   ]
  },
  {
   "cell_type": "code",
   "execution_count": null,
   "metadata": {
    "collapsed": true
   },
   "outputs": [],
   "source": [
    "#calculate 85% confidence scores\n",
    "\n",
    "arcpy.management.CalculateField(\"Confidence85\", \"MatchScore\", MatchConfidence, \"PYTHON_9.3\", None)\n",
    "arcpy.management.CalculateField(\"Confidence85F\", \"MatchScore\", MatchConfidence, \"PYTHON_9.3\", None)\n",
    "arcpy.management.CalculateField(\"Confidence85F\", \"FlipFlag\", \"1\", \"PYTHON_9.3\", None)"
   ]
  }
 ],
 "metadata": {
  "kernelspec": {
   "display_name": "ArcGISPro",
   "language": "Python",
   "name": "python3"
  },
  "language_info": {
   "file_extension": ".py",
   "name": "python",
   "version": "3"
  }
 },
 "nbformat": 4,
 "nbformat_minor": 2
}
