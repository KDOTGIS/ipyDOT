{
 "cells": [
  {
   "cell_type": "code",
   "execution_count": 6,
   "metadata": {},
   "outputs": [],
   "source": [
    "from arcpy import analysis, env, management, conversion\n",
    "\n",
    "env.overwriteOutput = True\n",
    "\n",
    "projectdb = r\"C:\\Users\\kyleg\\Documents\\ArcGIS\\Projects\\CorporateBoundaryAnalysis\\CorporateBoundaryAnalysis.gdb\"\n",
    "\n",
    "SDEPROD = r'C:\\gisdata\\DBConnections\\KanPlan\\shared@gisprod.sde\\SHARED'\n",
    "\n",
    "#management.MakeFeatureLayer(SDEPROD+r\".URBAN_BOUNDARIES\", \"URBAN_BOUNDARIES_Current\", \"SUPERCEDED = 0\")\n",
    "conversion.FeatureClassToFeatureClass(SDEPROD+r\".URBAN_BOUNDARIES\", projectdb, \"URBAN_BOUNDARIES\",  \"FHWA_APPROVED is not Null AND SUPERCEDED <> 0\")\n",
    "  \n",
    "\n",
    "\n",
    "SDEBndPolyList = ('COUNTIES', 'STATE_BOUNDARY', 'MPO_BOUNDARIES', 'CITY_LIMITS')#, 'KRCS_ALL_ZONES')\n",
    "\n",
    "NG911 = r'C:\\gisdata\\DBConnections\\NetworkCleanups\\sde@ROADS_sqlgisprod.sde\\Roads.SDE.MUNICIPALBOUNDARY_NG911'\n",
    "\n",
    "#management.MakeFeatureLayer(NG911, \"MUNICIPALBOUNDARY_NG911\", \"MUNI NOT IN ('UNINCORPORATED')\")\n",
    "conversion.FeatureClassToFeatureClass(NG911, r\"C:\\Users\\kyleg\\Documents\\ArcGIS\\Projects\\CorporateBoundaryAnalysis\\CorporateBoundaryAnalysis.gdb\", feature, \"MUNI NOT IN ('UNINCORPORATED')\")\n",
    "  \n",
    "\n",
    "gateprod = r'C:\\gisdata\\DBConnections\\KGATEData\\readonly@gateprod.sde\\GATE'\n",
    "\n",
    "GateBndPolyList = ('GATE_US_CONG_2012','GATE_KS_HOUSE_2012', 'GATE_KS_SENATE_2012' )\n",
    "\n",
    "for feature in SDEBndPolyList:\n",
    "    conversion.FeatureClassToFeatureClass(SDEPROD +'.' +feature, r\"C:\\Users\\kyleg\\Documents\\ArcGIS\\Projects\\CorporateBoundaryAnalysis\\CorporateBoundaryAnalysis.gdb\", feature)\n",
    "    #Name = str(feature)\n",
    "    #UnionPolygons = UnionPolygons +SDEPROD +'.' +feature + r' #;'\n",
    "\n",
    "for feature in GateBndPolyList:\n",
    "    conversion.FeatureClassToFeatureClass(gateprod +'.' +feature, r\"C:\\Users\\kyleg\\Documents\\ArcGIS\\Projects\\CorporateBoundaryAnalysis\\CorporateBoundaryAnalysis.gdb\", feature)\n",
    "    \n",
    "#    conversion.FeatureClassToFeatureClass(feature, r\"C:\\Users\\kyleg\\Documents\\ArcGIS\\Projects\\CorporateBoundaryAnalysis\\CorporateBoundaryAnalysis.gdb\", feature)"
   ]
  },
  {
   "cell_type": "code",
   "execution_count": 18,
   "metadata": {},
   "outputs": [
    {
     "data": {
      "text/plain": [
       "<Result 'C:\\\\Users\\\\kyleg\\\\Documents\\\\ArcGIS\\\\Projects\\\\CorporateBoundaryAnalysis\\\\CorporateBoundaryAnalysis.gdb\\\\URBAN_BOUNDARIES'>"
      ]
     },
     "execution_count": 18,
     "metadata": {},
     "output_type": "execute_result"
    }
   ],
   "source": [
    "GateBndPolyList = ('GATE_US_CONG_2012','GATE_KS_HOUSE_2012', 'GATE_KS_SENATE_2012' )\n",
    "conversion.FeatureClassToFeatureClass(SDEPROD+r\".URBAN_BOUNDARIES\", projectdb, \"URBAN_BOUNDARIES\", \"FHWA_APPROVED is not Null AND SUPERCEDED <> 0\")"
   ]
  },
  {
   "cell_type": "code",
   "execution_count": 19,
   "metadata": {},
   "outputs": [
    {
     "name": "stdout",
     "output_type": "stream",
     "text": [
      "COUNTIES\n",
      "STATE_BOUNDARY\n",
      "MPO_BOUNDARIES\n",
      "CITY_LIMITS\n",
      "GATE_US_CONG_2012\n",
      "GATE_KS_HOUSE_2012\n",
      "GATE_KS_SENATE_2012\n",
      "URBAN_BOUNDARIES\n",
      "MUNICIPALBOUNDARY_NG911\n",
      "C:\\Users\\kyleg\\Documents\\ArcGIS\\Projects\\CorporateBoundaryAnalysis\\CorporateBoundaryAnalysis.gdb/COUNTIES #;C:\\Users\\kyleg\\Documents\\ArcGIS\\Projects\\CorporateBoundaryAnalysis\\CorporateBoundaryAnalysis.gdb/STATE_BOUNDARY #;C:\\Users\\kyleg\\Documents\\ArcGIS\\Projects\\CorporateBoundaryAnalysis\\CorporateBoundaryAnalysis.gdb/MPO_BOUNDARIES #;C:\\Users\\kyleg\\Documents\\ArcGIS\\Projects\\CorporateBoundaryAnalysis\\CorporateBoundaryAnalysis.gdb/CITY_LIMITS #;C:\\Users\\kyleg\\Documents\\ArcGIS\\Projects\\CorporateBoundaryAnalysis\\CorporateBoundaryAnalysis.gdb/GATE_US_CONG_2012 #;C:\\Users\\kyleg\\Documents\\ArcGIS\\Projects\\CorporateBoundaryAnalysis\\CorporateBoundaryAnalysis.gdb/GATE_KS_HOUSE_2012 #;C:\\Users\\kyleg\\Documents\\ArcGIS\\Projects\\CorporateBoundaryAnalysis\\CorporateBoundaryAnalysis.gdb/GATE_KS_SENATE_2012 #;C:\\Users\\kyleg\\Documents\\ArcGIS\\Projects\\CorporateBoundaryAnalysis\\CorporateBoundaryAnalysis.gdb/URBAN_BOUNDARIES #;C:\\Users\\kyleg\\Documents\\ArcGIS\\Projects\\CorporateBoundaryAnalysis\\CorporateBoundaryAnalysis.gdb/MUNICIPALBOUNDARY_NG911 #;\n"
     ]
    },
    {
     "data": {
      "text/plain": [
       "<Result 'C:\\\\Users\\\\kyleg\\\\Documents\\\\ArcGIS\\\\Projects\\\\CorporateBoundaryAnalysis\\\\CorporateBoundaryAnalysis.gdb\\\\Boundary_Union'>"
      ]
     },
     "execution_count": 19,
     "metadata": {},
     "output_type": "execute_result"
    }
   ],
   "source": [
    "UnionPolygons  = ''\n",
    "OutPut = r\"C:\\Users\\kyleg\\Documents\\ArcGIS\\Projects\\CorporateBoundaryAnalysis\\CorporateBoundaryAnalysis.gdb\\Boundary_Union\"\n",
    "#arcpy.analysis.Union(r\"C:\\gisdata\\DBConnections\\KanPlan\\shared@gisprod.sde\\SHARED.CITY_LIMITS #;C:\\gisdata\\DBConnections\\KanPlan\\shared@gisprod.sde\\SHARED.COUNTIES #\", r\"C:\\Users\\kyleg\\Documents\\ArcGIS\\Projects\\CorporateBoundaryAnalysis\\CorporateBoundaryAnalysis.gdb\\CITY_LIMITS_Union\", \"ALL\", None, \"GAPS\") \n",
    "ListAdd = ('URBAN_BOUNDARIES', 'MUNICIPALBOUNDARY_NG911')\n",
    "inputUnion = SDEBndPolyList +GateBndPolyList+ ListAdd\n",
    "#analysis.Union(inputUnion, OutPut, \"ALL\", None, \"GAPS\")\n",
    "for feature in inputUnion:\n",
    "    print(feature)\n",
    "    UnionPolygons = UnionPolygons +projectdb +r'/' +feature + r' #;'\n",
    "print(UnionPolygons)\n",
    "analysis.Union(UnionPolygons, OutPut, \"ALL\", None, \"GAPS\")"
   ]
  },
  {
   "cell_type": "code",
   "execution_count": null,
   "metadata": {},
   "outputs": [],
   "source": []
  }
 ],
 "metadata": {
  "kernelspec": {
   "display_name": "ArcGISPro",
   "language": "Python",
   "name": "python3"
  },
  "language_info": {
   "file_extension": ".py",
   "name": "python",
   "version": "3"
  }
 },
 "nbformat": 4,
 "nbformat_minor": 2
}
